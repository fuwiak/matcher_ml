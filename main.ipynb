{
 "cells": [
  {
   "cell_type": "code",
   "execution_count": 12,
   "metadata": {
    "collapsed": true
   },
   "outputs": [],
   "source": [
    "import pandas as pd\n",
    "import spacy\n",
    "from sklearn.feature_extraction.text import TfidfVectorizer\n",
    "from sklearn.metrics.pairwise import cosine_similarity\n"
   ]
  },
  {
   "cell_type": "code",
   "execution_count": 13,
   "outputs": [
    {
     "name": "stdout",
     "output_type": "stream",
     "text": [
      "Collecting ru-core-news-sm==3.7.0\r\n",
      "  Downloading https://github.com/explosion/spacy-models/releases/download/ru_core_news_sm-3.7.0/ru_core_news_sm-3.7.0-py3-none-any.whl (15.3 MB)\r\n",
      "\u001B[2K     \u001B[90m━━━━━━━━━━━━━━━━━━━━━━━━━━━━━━━━━━━━━━━━\u001B[0m \u001B[32m15.3/15.3 MB\u001B[0m \u001B[31m15.0 MB/s\u001B[0m eta \u001B[36m0:00:00\u001B[0m00:01\u001B[0m00:01\u001B[0m\r\n",
      "\u001B[?25hRequirement already satisfied: spacy<3.8.0,>=3.7.0 in ./venv/lib/python3.10/site-packages (from ru-core-news-sm==3.7.0) (3.7.2)\r\n",
      "Requirement already satisfied: pymorphy3>=1.0.0 in ./venv/lib/python3.10/site-packages (from ru-core-news-sm==3.7.0) (1.2.1)\r\n",
      "Requirement already satisfied: pymorphy3-dicts-ru in ./venv/lib/python3.10/site-packages (from pymorphy3>=1.0.0->ru-core-news-sm==3.7.0) (2.4.417150.4580142)\r\n",
      "Requirement already satisfied: docopt-ng>=0.6 in ./venv/lib/python3.10/site-packages (from pymorphy3>=1.0.0->ru-core-news-sm==3.7.0) (0.9.0)\r\n",
      "Requirement already satisfied: dawg-python>=0.7.1 in ./venv/lib/python3.10/site-packages (from pymorphy3>=1.0.0->ru-core-news-sm==3.7.0) (0.7.2)\r\n",
      "Requirement already satisfied: langcodes<4.0.0,>=3.2.0 in ./venv/lib/python3.10/site-packages (from spacy<3.8.0,>=3.7.0->ru-core-news-sm==3.7.0) (3.3.0)\r\n",
      "Requirement already satisfied: spacy-loggers<2.0.0,>=1.0.0 in ./venv/lib/python3.10/site-packages (from spacy<3.8.0,>=3.7.0->ru-core-news-sm==3.7.0) (1.0.5)\r\n",
      "Requirement already satisfied: tqdm<5.0.0,>=4.38.0 in ./venv/lib/python3.10/site-packages (from spacy<3.8.0,>=3.7.0->ru-core-news-sm==3.7.0) (4.66.1)\r\n",
      "Requirement already satisfied: weasel<0.4.0,>=0.1.0 in ./venv/lib/python3.10/site-packages (from spacy<3.8.0,>=3.7.0->ru-core-news-sm==3.7.0) (0.3.4)\r\n",
      "Requirement already satisfied: thinc<8.3.0,>=8.1.8 in ./venv/lib/python3.10/site-packages (from spacy<3.8.0,>=3.7.0->ru-core-news-sm==3.7.0) (8.2.1)\r\n",
      "Requirement already satisfied: jinja2 in ./venv/lib/python3.10/site-packages (from spacy<3.8.0,>=3.7.0->ru-core-news-sm==3.7.0) (3.1.2)\r\n",
      "Requirement already satisfied: catalogue<2.1.0,>=2.0.6 in ./venv/lib/python3.10/site-packages (from spacy<3.8.0,>=3.7.0->ru-core-news-sm==3.7.0) (2.0.10)\r\n",
      "Requirement already satisfied: smart-open<7.0.0,>=5.2.1 in ./venv/lib/python3.10/site-packages (from spacy<3.8.0,>=3.7.0->ru-core-news-sm==3.7.0) (6.4.0)\r\n",
      "Requirement already satisfied: murmurhash<1.1.0,>=0.28.0 in ./venv/lib/python3.10/site-packages (from spacy<3.8.0,>=3.7.0->ru-core-news-sm==3.7.0) (1.0.10)\r\n",
      "Requirement already satisfied: spacy-legacy<3.1.0,>=3.0.11 in ./venv/lib/python3.10/site-packages (from spacy<3.8.0,>=3.7.0->ru-core-news-sm==3.7.0) (3.0.12)\r\n",
      "Requirement already satisfied: setuptools in ./venv/lib/python3.10/site-packages (from spacy<3.8.0,>=3.7.0->ru-core-news-sm==3.7.0) (65.5.1)\r\n",
      "Requirement already satisfied: typer<0.10.0,>=0.3.0 in ./venv/lib/python3.10/site-packages (from spacy<3.8.0,>=3.7.0->ru-core-news-sm==3.7.0) (0.9.0)\r\n",
      "Requirement already satisfied: requests<3.0.0,>=2.13.0 in ./venv/lib/python3.10/site-packages (from spacy<3.8.0,>=3.7.0->ru-core-news-sm==3.7.0) (2.31.0)\r\n",
      "Requirement already satisfied: packaging>=20.0 in ./venv/lib/python3.10/site-packages (from spacy<3.8.0,>=3.7.0->ru-core-news-sm==3.7.0) (23.2)\r\n",
      "Requirement already satisfied: cymem<2.1.0,>=2.0.2 in ./venv/lib/python3.10/site-packages (from spacy<3.8.0,>=3.7.0->ru-core-news-sm==3.7.0) (2.0.8)\r\n",
      "Requirement already satisfied: pydantic!=1.8,!=1.8.1,<3.0.0,>=1.7.4 in ./venv/lib/python3.10/site-packages (from spacy<3.8.0,>=3.7.0->ru-core-news-sm==3.7.0) (2.5.0)\r\n",
      "Requirement already satisfied: srsly<3.0.0,>=2.4.3 in ./venv/lib/python3.10/site-packages (from spacy<3.8.0,>=3.7.0->ru-core-news-sm==3.7.0) (2.4.8)\r\n",
      "Requirement already satisfied: preshed<3.1.0,>=3.0.2 in ./venv/lib/python3.10/site-packages (from spacy<3.8.0,>=3.7.0->ru-core-news-sm==3.7.0) (3.0.9)\r\n",
      "Requirement already satisfied: wasabi<1.2.0,>=0.9.1 in ./venv/lib/python3.10/site-packages (from spacy<3.8.0,>=3.7.0->ru-core-news-sm==3.7.0) (1.1.2)\r\n",
      "Requirement already satisfied: numpy>=1.19.0 in ./venv/lib/python3.10/site-packages (from spacy<3.8.0,>=3.7.0->ru-core-news-sm==3.7.0) (1.26.2)\r\n",
      "Requirement already satisfied: annotated-types>=0.4.0 in ./venv/lib/python3.10/site-packages (from pydantic!=1.8,!=1.8.1,<3.0.0,>=1.7.4->spacy<3.8.0,>=3.7.0->ru-core-news-sm==3.7.0) (0.6.0)\r\n",
      "Requirement already satisfied: pydantic-core==2.14.1 in ./venv/lib/python3.10/site-packages (from pydantic!=1.8,!=1.8.1,<3.0.0,>=1.7.4->spacy<3.8.0,>=3.7.0->ru-core-news-sm==3.7.0) (2.14.1)\r\n",
      "Requirement already satisfied: typing-extensions>=4.6.1 in ./venv/lib/python3.10/site-packages (from pydantic!=1.8,!=1.8.1,<3.0.0,>=1.7.4->spacy<3.8.0,>=3.7.0->ru-core-news-sm==3.7.0) (4.8.0)\r\n",
      "Requirement already satisfied: idna<4,>=2.5 in ./venv/lib/python3.10/site-packages (from requests<3.0.0,>=2.13.0->spacy<3.8.0,>=3.7.0->ru-core-news-sm==3.7.0) (3.4)\r\n",
      "Requirement already satisfied: charset-normalizer<4,>=2 in ./venv/lib/python3.10/site-packages (from requests<3.0.0,>=2.13.0->spacy<3.8.0,>=3.7.0->ru-core-news-sm==3.7.0) (3.3.2)\r\n",
      "Requirement already satisfied: certifi>=2017.4.17 in ./venv/lib/python3.10/site-packages (from requests<3.0.0,>=2.13.0->spacy<3.8.0,>=3.7.0->ru-core-news-sm==3.7.0) (2023.7.22)\r\n",
      "Requirement already satisfied: urllib3<3,>=1.21.1 in ./venv/lib/python3.10/site-packages (from requests<3.0.0,>=2.13.0->spacy<3.8.0,>=3.7.0->ru-core-news-sm==3.7.0) (2.1.0)\r\n",
      "Requirement already satisfied: blis<0.8.0,>=0.7.8 in ./venv/lib/python3.10/site-packages (from thinc<8.3.0,>=8.1.8->spacy<3.8.0,>=3.7.0->ru-core-news-sm==3.7.0) (0.7.11)\r\n",
      "Requirement already satisfied: confection<1.0.0,>=0.0.1 in ./venv/lib/python3.10/site-packages (from thinc<8.3.0,>=8.1.8->spacy<3.8.0,>=3.7.0->ru-core-news-sm==3.7.0) (0.1.3)\r\n",
      "Requirement already satisfied: click<9.0.0,>=7.1.1 in ./venv/lib/python3.10/site-packages (from typer<0.10.0,>=0.3.0->spacy<3.8.0,>=3.7.0->ru-core-news-sm==3.7.0) (8.1.7)\r\n",
      "Requirement already satisfied: cloudpathlib<0.17.0,>=0.7.0 in ./venv/lib/python3.10/site-packages (from weasel<0.4.0,>=0.1.0->spacy<3.8.0,>=3.7.0->ru-core-news-sm==3.7.0) (0.16.0)\r\n",
      "Requirement already satisfied: MarkupSafe>=2.0 in ./venv/lib/python3.10/site-packages (from jinja2->spacy<3.8.0,>=3.7.0->ru-core-news-sm==3.7.0) (2.1.3)\r\n",
      "\r\n",
      "\u001B[1m[\u001B[0m\u001B[34;49mnotice\u001B[0m\u001B[1;39;49m]\u001B[0m\u001B[39;49m A new release of pip available: \u001B[0m\u001B[31;49m22.3.1\u001B[0m\u001B[39;49m -> \u001B[0m\u001B[32;49m23.3.1\u001B[0m\r\n",
      "\u001B[1m[\u001B[0m\u001B[34;49mnotice\u001B[0m\u001B[1;39;49m]\u001B[0m\u001B[39;49m To update, run: \u001B[0m\u001B[32;49mpip install --upgrade pip\u001B[0m\r\n",
      "\u001B[38;5;2m✔ Download and installation successful\u001B[0m\r\n",
      "You can now load the package via spacy.load('ru_core_news_sm')\r\n"
     ]
    }
   ],
   "source": [
    "!python -m spacy download ru_core_news_sm"
   ],
   "metadata": {
    "collapsed": false
   }
  },
  {
   "cell_type": "code",
   "execution_count": 14,
   "outputs": [],
   "source": [
    "path_dict = {\n",
    "    'train': 'data/Соответствия.xlsx',\n",
    "    'etalon': 'data/Эталонная номенклатура.xlsx',\n",
    "}\n"
   ],
   "metadata": {
    "collapsed": false
   }
  },
  {
   "cell_type": "code",
   "execution_count": 15,
   "outputs": [],
   "source": [
    "train = pd.read_excel(path_dict['train'])\n"
   ],
   "metadata": {
    "collapsed": false
   }
  },
  {
   "cell_type": "code",
   "execution_count": 16,
   "outputs": [],
   "source": [
    "etalon = pd.read_excel(path_dict['etalon'])\n"
   ],
   "metadata": {
    "collapsed": false
   }
  },
  {
   "cell_type": "code",
   "execution_count": 17,
   "outputs": [],
   "source": [
    "N = 1000\n",
    "train = train.iloc[:N]\n",
    "etalon = etalon.iloc[:N]\n"
   ],
   "metadata": {
    "collapsed": false
   }
  },
  {
   "cell_type": "code",
   "execution_count": 18,
   "outputs": [
    {
     "data": {
      "text/plain": "                                          Номенклатура\n0                               AS17-L100x50x10-30-CS3\n1          Hardtop XP Std Comp A RAL 6011 Jotun 17,33л\n2                     Hardtop XP Std Comp B Jotun 1,8л\n3            Hardtop XP Std Comp B RAL 1023 Jotun 1,8л\n4           Hardtop XP Std Comp B RAL 6011 Jotun 1,8л.\n..                                                 ...\n995  Бобышка БП1-М20х1,5-100 ст.10Х17Н13М2Т ТУ 36-1...\n996  Бобышка БП1-М20х1,5-100 ст.13ХФА ТУ 4218-032-0...\n997        Бобышка БП1-М20х1,5-100 ст.20 ТУ 36-1097-85\n998  Бобышка БП1-М20х1,5-100 ст.20 УХЛ ТУ 4218-032-...\n999  Бобышка БП1-М20х1,5-100-УХЛ1 ст.20 ТУ 3600-009...\n\n[1000 rows x 1 columns]",
      "text/html": "<div>\n<style scoped>\n    .dataframe tbody tr th:only-of-type {\n        vertical-align: middle;\n    }\n\n    .dataframe tbody tr th {\n        vertical-align: top;\n    }\n\n    .dataframe thead th {\n        text-align: right;\n    }\n</style>\n<table border=\"1\" class=\"dataframe\">\n  <thead>\n    <tr style=\"text-align: right;\">\n      <th></th>\n      <th>Номенклатура</th>\n    </tr>\n  </thead>\n  <tbody>\n    <tr>\n      <th>0</th>\n      <td>AS17-L100x50x10-30-CS3</td>\n    </tr>\n    <tr>\n      <th>1</th>\n      <td>Hardtop XP Std Comp A RAL 6011 Jotun 17,33л</td>\n    </tr>\n    <tr>\n      <th>2</th>\n      <td>Hardtop XP Std Comp B Jotun 1,8л</td>\n    </tr>\n    <tr>\n      <th>3</th>\n      <td>Hardtop XP Std Comp B RAL 1023 Jotun 1,8л</td>\n    </tr>\n    <tr>\n      <th>4</th>\n      <td>Hardtop XP Std Comp B RAL 6011 Jotun 1,8л.</td>\n    </tr>\n    <tr>\n      <th>...</th>\n      <td>...</td>\n    </tr>\n    <tr>\n      <th>995</th>\n      <td>Бобышка БП1-М20х1,5-100 ст.10Х17Н13М2Т ТУ 36-1...</td>\n    </tr>\n    <tr>\n      <th>996</th>\n      <td>Бобышка БП1-М20х1,5-100 ст.13ХФА ТУ 4218-032-0...</td>\n    </tr>\n    <tr>\n      <th>997</th>\n      <td>Бобышка БП1-М20х1,5-100 ст.20 ТУ 36-1097-85</td>\n    </tr>\n    <tr>\n      <th>998</th>\n      <td>Бобышка БП1-М20х1,5-100 ст.20 УХЛ ТУ 4218-032-...</td>\n    </tr>\n    <tr>\n      <th>999</th>\n      <td>Бобышка БП1-М20х1,5-100-УХЛ1 ст.20 ТУ 3600-009...</td>\n    </tr>\n  </tbody>\n</table>\n<p>1000 rows × 1 columns</p>\n</div>"
     },
     "execution_count": 18,
     "metadata": {},
     "output_type": "execute_result"
    }
   ],
   "source": [
    "etalon"
   ],
   "metadata": {
    "collapsed": false
   }
  },
  {
   "cell_type": "code",
   "execution_count": 19,
   "outputs": [],
   "source": [
    "# !pip install name_matching\n"
   ],
   "metadata": {
    "collapsed": false
   }
  },
  {
   "cell_type": "code",
   "execution_count": 20,
   "outputs": [
    {
     "name": "stdout",
     "output_type": "stream",
     "text": [
      "preprocessing...\n",
      "\n",
      "preprocessing complete \n",
      " searching for matches...\n",
      "\n"
     ]
    },
    {
     "name": "stderr",
     "output_type": "stream",
     "text": [
      "100%|██████████| 1/1 [00:00<00:00, 32.21it/s]\n"
     ]
    },
    {
     "name": "stdout",
     "output_type": "stream",
     "text": [
      "possible matches found   \n",
      " fuzzy matching...\n",
      "\n"
     ]
    },
    {
     "name": "stderr",
     "output_type": "stream",
     "text": [
      "100%|██████████| 1000/1000 [01:28<00:00, 11.36it/s]"
     ]
    },
    {
     "name": "stdout",
     "output_type": "stream",
     "text": [
      "done\n"
     ]
    },
    {
     "name": "stderr",
     "output_type": "stream",
     "text": [
      "\n"
     ]
    }
   ],
   "source": [
    "import pandas as pd\n",
    "from name_matching.name_matcher import NameMatcher\n",
    "\n",
    "etalon_column_name = 'Номенклатура'\n",
    "\n",
    "\n",
    "\n",
    "# initialise the name matcher\n",
    "matcher = NameMatcher(number_of_matches=1,\n",
    "                      legal_suffixes=True,\n",
    "                      common_words=False,\n",
    "                      top_n=50,\n",
    "                      verbose=True)\n",
    "\n",
    "# adjust the distance metrics to use\n",
    "matcher.set_distance_metrics(['bag', 'typo', 'refined_soundex'])\n",
    "\n",
    "# load the data to which the names should be matched\n",
    "matcher.load_and_process_master_data(column=etalon_column_name,\n",
    "                                     df_matching_data=etalon,\n",
    "                                     transform=True)\n",
    "\n",
    "# perform the name matching on the data you want matched\n",
    "matches = matcher.match_names(to_be_matched=train,\n",
    "                              column_matching='Описание')\n",
    "\n"
   ],
   "metadata": {
    "collapsed": false
   }
  },
  {
   "cell_type": "code",
   "execution_count": 25,
   "outputs": [],
   "source": [
    "combined = pd.merge(train, matches, how='left', left_index=True, right_on='match_index')\n",
    "selected_columns = ['Описание', 'Эталонная номенклатура', 'score']\n",
    "combined = combined[selected_columns]\n",
    "\n"
   ],
   "metadata": {
    "collapsed": false
   }
  },
  {
   "cell_type": "code",
   "execution_count": 28,
   "outputs": [
    {
     "data": {
      "text/plain": "                                   Описание  \\\n855.0    06  1082755880 d22 d113 201 n6 261   \n466.0                       07 ct 341074393   \n464.0                       07 ct 341074393   \n862.0                     hst3 12115 4020     \n242.0    06  1082755880 d22 d113 201 n6 261   \n...                                     ...   \n915.0                    1640  779870    14   \n575.0             1596 092       1423872011   \n696.0                   hilti h s a m12100    \n697.0                   630   69  341072693   \n183.0      21 248000926  24379180 4  1  1     \n\n                              Эталонная номенклатура       score  \n855.0            Блок пружинный 06 ОСТ 108.275.58-80  100.000000  \n466.0             Блок пружинный 07 ОСТ 34-10-743-93  100.000000  \n464.0             Блок пружинный 07 ОСТ 34-10-743-93  100.000000  \n862.0                Анкер-шпилька М12х115 HILTI HST  100.000000  \n242.0            Блок пружинный 06 ОСТ 108.275.58-80  100.000000  \n...                                              ...         ...  \n915.0                Болт М16х40 ГОСТ 7798-70 оцинк.   16.147680  \n575.0  Втулка ВСЭ-А-159х6 ст.09Г2С ТУ 14-2Р-387-2011   15.648538  \n696.0                Анкер-шпилька М12х110 HILTI HSA   15.614504  \n697.0         Блок подвески 630У-69 ОСТ 34-10-726-93   15.303857  \n183.0    Болт 1.1.М24х800 ст.09Г2С ГОСТ 24379.1-2012    0.000000  \n\n[1000 rows x 3 columns]",
      "text/html": "<div>\n<style scoped>\n    .dataframe tbody tr th:only-of-type {\n        vertical-align: middle;\n    }\n\n    .dataframe tbody tr th {\n        vertical-align: top;\n    }\n\n    .dataframe thead th {\n        text-align: right;\n    }\n</style>\n<table border=\"1\" class=\"dataframe\">\n  <thead>\n    <tr style=\"text-align: right;\">\n      <th></th>\n      <th>Описание</th>\n      <th>Эталонная номенклатура</th>\n      <th>score</th>\n    </tr>\n  </thead>\n  <tbody>\n    <tr>\n      <th>855.0</th>\n      <td>06  1082755880 d22 d113 201 n6 261</td>\n      <td>Блок пружинный 06 ОСТ 108.275.58-80</td>\n      <td>100.000000</td>\n    </tr>\n    <tr>\n      <th>466.0</th>\n      <td>07 ct 341074393</td>\n      <td>Блок пружинный 07 ОСТ 34-10-743-93</td>\n      <td>100.000000</td>\n    </tr>\n    <tr>\n      <th>464.0</th>\n      <td>07 ct 341074393</td>\n      <td>Блок пружинный 07 ОСТ 34-10-743-93</td>\n      <td>100.000000</td>\n    </tr>\n    <tr>\n      <th>862.0</th>\n      <td>hst3 12115 4020</td>\n      <td>Анкер-шпилька М12х115 HILTI HST</td>\n      <td>100.000000</td>\n    </tr>\n    <tr>\n      <th>242.0</th>\n      <td>06  1082755880 d22 d113 201 n6 261</td>\n      <td>Блок пружинный 06 ОСТ 108.275.58-80</td>\n      <td>100.000000</td>\n    </tr>\n    <tr>\n      <th>...</th>\n      <td>...</td>\n      <td>...</td>\n      <td>...</td>\n    </tr>\n    <tr>\n      <th>915.0</th>\n      <td>1640  779870    14</td>\n      <td>Болт М16х40 ГОСТ 7798-70 оцинк.</td>\n      <td>16.147680</td>\n    </tr>\n    <tr>\n      <th>575.0</th>\n      <td>1596 092       1423872011</td>\n      <td>Втулка ВСЭ-А-159х6 ст.09Г2С ТУ 14-2Р-387-2011</td>\n      <td>15.648538</td>\n    </tr>\n    <tr>\n      <th>696.0</th>\n      <td>hilti h s a m12100</td>\n      <td>Анкер-шпилька М12х110 HILTI HSA</td>\n      <td>15.614504</td>\n    </tr>\n    <tr>\n      <th>697.0</th>\n      <td>630   69  341072693</td>\n      <td>Блок подвески 630У-69 ОСТ 34-10-726-93</td>\n      <td>15.303857</td>\n    </tr>\n    <tr>\n      <th>183.0</th>\n      <td>21 248000926  24379180 4  1  1</td>\n      <td>Болт 1.1.М24х800 ст.09Г2С ГОСТ 24379.1-2012</td>\n      <td>0.000000</td>\n    </tr>\n  </tbody>\n</table>\n<p>1000 rows × 3 columns</p>\n</div>"
     },
     "execution_count": 28,
     "metadata": {},
     "output_type": "execute_result"
    }
   ],
   "source": [
    "combined.sort_values(by='score', ascending=False).head(1000)\n"
   ],
   "metadata": {
    "collapsed": false
   }
  }
 ],
 "metadata": {
  "kernelspec": {
   "display_name": "Python 3",
   "language": "python",
   "name": "python3"
  },
  "language_info": {
   "codemirror_mode": {
    "name": "ipython",
    "version": 2
   },
   "file_extension": ".py",
   "mimetype": "text/x-python",
   "name": "python",
   "nbconvert_exporter": "python",
   "pygments_lexer": "ipython2",
   "version": "2.7.6"
  }
 },
 "nbformat": 4,
 "nbformat_minor": 0
}
