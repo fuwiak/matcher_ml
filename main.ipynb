{
 "cells": [
  {
   "cell_type": "code",
   "execution_count": 2,
   "metadata": {
    "collapsed": true
   },
   "outputs": [],
   "source": [
    "import pandas as pd\n",
    "import spacy\n",
    "from sklearn.feature_extraction.text import TfidfVectorizer\n",
    "from sklearn.metrics.pairwise import cosine_similarity\n"
   ]
  },
  {
   "cell_type": "code",
   "execution_count": 45,
   "outputs": [
    {
     "name": "stdout",
     "output_type": "stream",
     "text": [
      "Collecting ru-core-news-sm==3.7.0\r\n",
      "  Downloading https://github.com/explosion/spacy-models/releases/download/ru_core_news_sm-3.7.0/ru_core_news_sm-3.7.0-py3-none-any.whl (15.3 MB)\r\n",
      "\u001B[2K     \u001B[90m━━━━━━━━━━━━━━━━━━━━━━━━━━━━━━━━━━━━━━━━\u001B[0m \u001B[32m15.3/15.3 MB\u001B[0m \u001B[31m6.7 MB/s\u001B[0m eta \u001B[36m0:00:00\u001B[0m00:01\u001B[0m00:01\u001B[0m\r\n",
      "\u001B[?25hRequirement already satisfied: pymorphy3>=1.0.0 in ./venv/lib/python3.10/site-packages (from ru-core-news-sm==3.7.0) (1.2.1)\r\n",
      "Requirement already satisfied: spacy<3.8.0,>=3.7.0 in ./venv/lib/python3.10/site-packages (from ru-core-news-sm==3.7.0) (3.7.2)\r\n",
      "Requirement already satisfied: dawg-python>=0.7.1 in ./venv/lib/python3.10/site-packages (from pymorphy3>=1.0.0->ru-core-news-sm==3.7.0) (0.7.2)\r\n",
      "Requirement already satisfied: docopt-ng>=0.6 in ./venv/lib/python3.10/site-packages (from pymorphy3>=1.0.0->ru-core-news-sm==3.7.0) (0.9.0)\r\n",
      "Requirement already satisfied: pymorphy3-dicts-ru in ./venv/lib/python3.10/site-packages (from pymorphy3>=1.0.0->ru-core-news-sm==3.7.0) (2.4.417150.4580142)\r\n",
      "Requirement already satisfied: numpy>=1.19.0 in ./venv/lib/python3.10/site-packages (from spacy<3.8.0,>=3.7.0->ru-core-news-sm==3.7.0) (1.26.2)\r\n",
      "Requirement already satisfied: murmurhash<1.1.0,>=0.28.0 in ./venv/lib/python3.10/site-packages (from spacy<3.8.0,>=3.7.0->ru-core-news-sm==3.7.0) (1.0.10)\r\n",
      "Requirement already satisfied: srsly<3.0.0,>=2.4.3 in ./venv/lib/python3.10/site-packages (from spacy<3.8.0,>=3.7.0->ru-core-news-sm==3.7.0) (2.4.8)\r\n",
      "Requirement already satisfied: smart-open<7.0.0,>=5.2.1 in ./venv/lib/python3.10/site-packages (from spacy<3.8.0,>=3.7.0->ru-core-news-sm==3.7.0) (6.4.0)\r\n",
      "Requirement already satisfied: tqdm<5.0.0,>=4.38.0 in ./venv/lib/python3.10/site-packages (from spacy<3.8.0,>=3.7.0->ru-core-news-sm==3.7.0) (4.66.1)\r\n",
      "Requirement already satisfied: requests<3.0.0,>=2.13.0 in ./venv/lib/python3.10/site-packages (from spacy<3.8.0,>=3.7.0->ru-core-news-sm==3.7.0) (2.31.0)\r\n",
      "Requirement already satisfied: pydantic!=1.8,!=1.8.1,<3.0.0,>=1.7.4 in ./venv/lib/python3.10/site-packages (from spacy<3.8.0,>=3.7.0->ru-core-news-sm==3.7.0) (2.5.0)\r\n",
      "Requirement already satisfied: catalogue<2.1.0,>=2.0.6 in ./venv/lib/python3.10/site-packages (from spacy<3.8.0,>=3.7.0->ru-core-news-sm==3.7.0) (2.0.10)\r\n",
      "Requirement already satisfied: setuptools in ./venv/lib/python3.10/site-packages (from spacy<3.8.0,>=3.7.0->ru-core-news-sm==3.7.0) (65.5.1)\r\n",
      "Requirement already satisfied: spacy-legacy<3.1.0,>=3.0.11 in ./venv/lib/python3.10/site-packages (from spacy<3.8.0,>=3.7.0->ru-core-news-sm==3.7.0) (3.0.12)\r\n",
      "Requirement already satisfied: weasel<0.4.0,>=0.1.0 in ./venv/lib/python3.10/site-packages (from spacy<3.8.0,>=3.7.0->ru-core-news-sm==3.7.0) (0.3.4)\r\n",
      "Requirement already satisfied: spacy-loggers<2.0.0,>=1.0.0 in ./venv/lib/python3.10/site-packages (from spacy<3.8.0,>=3.7.0->ru-core-news-sm==3.7.0) (1.0.5)\r\n",
      "Requirement already satisfied: typer<0.10.0,>=0.3.0 in ./venv/lib/python3.10/site-packages (from spacy<3.8.0,>=3.7.0->ru-core-news-sm==3.7.0) (0.9.0)\r\n",
      "Requirement already satisfied: langcodes<4.0.0,>=3.2.0 in ./venv/lib/python3.10/site-packages (from spacy<3.8.0,>=3.7.0->ru-core-news-sm==3.7.0) (3.3.0)\r\n",
      "Requirement already satisfied: jinja2 in ./venv/lib/python3.10/site-packages (from spacy<3.8.0,>=3.7.0->ru-core-news-sm==3.7.0) (3.1.2)\r\n",
      "Requirement already satisfied: preshed<3.1.0,>=3.0.2 in ./venv/lib/python3.10/site-packages (from spacy<3.8.0,>=3.7.0->ru-core-news-sm==3.7.0) (3.0.9)\r\n",
      "Requirement already satisfied: wasabi<1.2.0,>=0.9.1 in ./venv/lib/python3.10/site-packages (from spacy<3.8.0,>=3.7.0->ru-core-news-sm==3.7.0) (1.1.2)\r\n",
      "Requirement already satisfied: packaging>=20.0 in ./venv/lib/python3.10/site-packages (from spacy<3.8.0,>=3.7.0->ru-core-news-sm==3.7.0) (23.2)\r\n",
      "Requirement already satisfied: thinc<8.3.0,>=8.1.8 in ./venv/lib/python3.10/site-packages (from spacy<3.8.0,>=3.7.0->ru-core-news-sm==3.7.0) (8.2.1)\r\n",
      "Requirement already satisfied: cymem<2.1.0,>=2.0.2 in ./venv/lib/python3.10/site-packages (from spacy<3.8.0,>=3.7.0->ru-core-news-sm==3.7.0) (2.0.8)\r\n",
      "Requirement already satisfied: typing-extensions>=4.6.1 in ./venv/lib/python3.10/site-packages (from pydantic!=1.8,!=1.8.1,<3.0.0,>=1.7.4->spacy<3.8.0,>=3.7.0->ru-core-news-sm==3.7.0) (4.8.0)\r\n",
      "Requirement already satisfied: pydantic-core==2.14.1 in ./venv/lib/python3.10/site-packages (from pydantic!=1.8,!=1.8.1,<3.0.0,>=1.7.4->spacy<3.8.0,>=3.7.0->ru-core-news-sm==3.7.0) (2.14.1)\r\n",
      "Requirement already satisfied: annotated-types>=0.4.0 in ./venv/lib/python3.10/site-packages (from pydantic!=1.8,!=1.8.1,<3.0.0,>=1.7.4->spacy<3.8.0,>=3.7.0->ru-core-news-sm==3.7.0) (0.6.0)\r\n",
      "Requirement already satisfied: charset-normalizer<4,>=2 in ./venv/lib/python3.10/site-packages (from requests<3.0.0,>=2.13.0->spacy<3.8.0,>=3.7.0->ru-core-news-sm==3.7.0) (3.3.2)\r\n",
      "Requirement already satisfied: urllib3<3,>=1.21.1 in ./venv/lib/python3.10/site-packages (from requests<3.0.0,>=2.13.0->spacy<3.8.0,>=3.7.0->ru-core-news-sm==3.7.0) (2.1.0)\r\n",
      "Requirement already satisfied: certifi>=2017.4.17 in ./venv/lib/python3.10/site-packages (from requests<3.0.0,>=2.13.0->spacy<3.8.0,>=3.7.0->ru-core-news-sm==3.7.0) (2023.7.22)\r\n",
      "Requirement already satisfied: idna<4,>=2.5 in ./venv/lib/python3.10/site-packages (from requests<3.0.0,>=2.13.0->spacy<3.8.0,>=3.7.0->ru-core-news-sm==3.7.0) (3.4)\r\n",
      "Requirement already satisfied: confection<1.0.0,>=0.0.1 in ./venv/lib/python3.10/site-packages (from thinc<8.3.0,>=8.1.8->spacy<3.8.0,>=3.7.0->ru-core-news-sm==3.7.0) (0.1.3)\r\n",
      "Requirement already satisfied: blis<0.8.0,>=0.7.8 in ./venv/lib/python3.10/site-packages (from thinc<8.3.0,>=8.1.8->spacy<3.8.0,>=3.7.0->ru-core-news-sm==3.7.0) (0.7.11)\r\n",
      "Requirement already satisfied: click<9.0.0,>=7.1.1 in ./venv/lib/python3.10/site-packages (from typer<0.10.0,>=0.3.0->spacy<3.8.0,>=3.7.0->ru-core-news-sm==3.7.0) (8.1.7)\r\n",
      "Requirement already satisfied: cloudpathlib<0.17.0,>=0.7.0 in ./venv/lib/python3.10/site-packages (from weasel<0.4.0,>=0.1.0->spacy<3.8.0,>=3.7.0->ru-core-news-sm==3.7.0) (0.16.0)\r\n",
      "Requirement already satisfied: MarkupSafe>=2.0 in ./venv/lib/python3.10/site-packages (from jinja2->spacy<3.8.0,>=3.7.0->ru-core-news-sm==3.7.0) (2.1.3)\r\n",
      "\r\n",
      "\u001B[1m[\u001B[0m\u001B[34;49mnotice\u001B[0m\u001B[1;39;49m]\u001B[0m\u001B[39;49m A new release of pip available: \u001B[0m\u001B[31;49m22.3.1\u001B[0m\u001B[39;49m -> \u001B[0m\u001B[32;49m23.3.1\u001B[0m\r\n",
      "\u001B[1m[\u001B[0m\u001B[34;49mnotice\u001B[0m\u001B[1;39;49m]\u001B[0m\u001B[39;49m To update, run: \u001B[0m\u001B[32;49mpip install --upgrade pip\u001B[0m\r\n",
      "\u001B[38;5;2m✔ Download and installation successful\u001B[0m\r\n",
      "You can now load the package via spacy.load('ru_core_news_sm')\r\n"
     ]
    }
   ],
   "source": [
    "!python -m spacy download ru_core_news_sm"
   ],
   "metadata": {
    "collapsed": false
   }
  },
  {
   "cell_type": "code",
   "execution_count": 3,
   "outputs": [],
   "source": [
    "path_dict = {\n",
    "    'train': 'data/Соответствия.xlsx',\n",
    "    'etalon': 'data/Эталонная номенклатура.xlsx',\n",
    "}\n"
   ],
   "metadata": {
    "collapsed": false
   }
  },
  {
   "cell_type": "code",
   "execution_count": 4,
   "outputs": [],
   "source": [
    "train = pd.read_excel(path_dict['train'])\n"
   ],
   "metadata": {
    "collapsed": false
   }
  },
  {
   "cell_type": "code",
   "execution_count": 5,
   "outputs": [],
   "source": [
    "etalon = pd.read_excel(path_dict['etalon'])\n"
   ],
   "metadata": {
    "collapsed": false
   }
  },
  {
   "cell_type": "code",
   "execution_count": 6,
   "outputs": [],
   "source": [
    "N = 1000\n",
    "train = train.iloc[:N]\n",
    "etalon = etalon.iloc[:N]\n"
   ],
   "metadata": {
    "collapsed": false
   }
  },
  {
   "cell_type": "code",
   "execution_count": 15,
   "outputs": [
    {
     "data": {
      "text/plain": "Index(['Описание', 'Эталонная номенклатура'], dtype='object')"
     },
     "execution_count": 15,
     "metadata": {},
     "output_type": "execute_result"
    }
   ],
   "source": [
    "train.columns"
   ],
   "metadata": {
    "collapsed": false
   }
  },
  {
   "cell_type": "code",
   "execution_count": 16,
   "outputs": [],
   "source": [
    "#save to csv\n",
    "train.to_csv('data/train1000.csv', index=False)"
   ],
   "metadata": {
    "collapsed": false
   }
  },
  {
   "cell_type": "code",
   "execution_count": 7,
   "outputs": [
    {
     "data": {
      "text/plain": "                                              Описание  \\\n0    Болт фундаментный 2.1 М24х800-09Г2С-6 ГОСТ 243...   \n1    А1 Болт 1.1 М36х1400 ГОСТ 24379.1-2012 GCC-LGN...   \n2    Болт 1.2.М12x500 ГОСТ 24379.1-2012 Сборный ГОС...   \n3    Болт 1.2.МЗ0х900 ГОСТ 24379.1-2012 Сборный ГОС...   \n4    Болт 2.1.М24х450 ст.09Г2С-6 ГОСТ 24379.1-80 в ...   \n..                                                 ...   \n995  Гайка шестигранная нормальная М16-5 ГОСТ ISO 4...   \n996  Гайка М12.016 ГОСТ Р ИСО 4032-2014 20 ГОСТ 105...   \n997  Гайка М12.016 ГОСТ Р ИСО 4032-2014 20 ГОСТ 105...   \n998  Гайка М12.016 ГОСТ Р ИСО 4032-2014 20 ГОСТ 105...   \n999  Гайка М12.016 ГОСТ Р ИСО 4032-2014 20 ГОСТ 105...   \n\n                            Эталонная номенклатура  \n0      Болт 1.1.М24х800 ст.09Г2С ГОСТ 24379.1-2012  \n1       Болт 1.1.М36х1400 ГОСТ 24379.1-2012 оцинк.  \n2         Болт 1.2.М12х500 ст.сб ГОСТ 24379.1-2012  \n3         Болт 1.2.М30х900 ст.сб ГОСТ 24379.1-2012  \n4    Болт 2.1.М24х450 ст.09Г2С-6 ГОСТ 24379.1-2012  \n..                                             ...  \n995                 Гайка М16-5 ГОСТ ИСО 4032-2014  \n996         Гайка М12.016 ст.20 ГОСТ ИСО 4032-2014  \n997         Гайка М12.016 ст.20 ГОСТ ИСО 4032-2014  \n998         Гайка М12.016 ст.20 ГОСТ ИСО 4032-2014  \n999         Гайка М12.016 ст.20 ГОСТ ИСО 4032-2014  \n\n[1000 rows x 2 columns]",
      "text/html": "<div>\n<style scoped>\n    .dataframe tbody tr th:only-of-type {\n        vertical-align: middle;\n    }\n\n    .dataframe tbody tr th {\n        vertical-align: top;\n    }\n\n    .dataframe thead th {\n        text-align: right;\n    }\n</style>\n<table border=\"1\" class=\"dataframe\">\n  <thead>\n    <tr style=\"text-align: right;\">\n      <th></th>\n      <th>Описание</th>\n      <th>Эталонная номенклатура</th>\n    </tr>\n  </thead>\n  <tbody>\n    <tr>\n      <th>0</th>\n      <td>Болт фундаментный 2.1 М24х800-09Г2С-6 ГОСТ 243...</td>\n      <td>Болт 1.1.М24х800 ст.09Г2С ГОСТ 24379.1-2012</td>\n    </tr>\n    <tr>\n      <th>1</th>\n      <td>А1 Болт 1.1 М36х1400 ГОСТ 24379.1-2012 GCC-LGN...</td>\n      <td>Болт 1.1.М36х1400 ГОСТ 24379.1-2012 оцинк.</td>\n    </tr>\n    <tr>\n      <th>2</th>\n      <td>Болт 1.2.М12x500 ГОСТ 24379.1-2012 Сборный ГОС...</td>\n      <td>Болт 1.2.М12х500 ст.сб ГОСТ 24379.1-2012</td>\n    </tr>\n    <tr>\n      <th>3</th>\n      <td>Болт 1.2.МЗ0х900 ГОСТ 24379.1-2012 Сборный ГОС...</td>\n      <td>Болт 1.2.М30х900 ст.сб ГОСТ 24379.1-2012</td>\n    </tr>\n    <tr>\n      <th>4</th>\n      <td>Болт 2.1.М24х450 ст.09Г2С-6 ГОСТ 24379.1-80 в ...</td>\n      <td>Болт 2.1.М24х450 ст.09Г2С-6 ГОСТ 24379.1-2012</td>\n    </tr>\n    <tr>\n      <th>...</th>\n      <td>...</td>\n      <td>...</td>\n    </tr>\n    <tr>\n      <th>995</th>\n      <td>Гайка шестигранная нормальная М16-5 ГОСТ ISO 4...</td>\n      <td>Гайка М16-5 ГОСТ ИСО 4032-2014</td>\n    </tr>\n    <tr>\n      <th>996</th>\n      <td>Гайка М12.016 ГОСТ Р ИСО 4032-2014 20 ГОСТ 105...</td>\n      <td>Гайка М12.016 ст.20 ГОСТ ИСО 4032-2014</td>\n    </tr>\n    <tr>\n      <th>997</th>\n      <td>Гайка М12.016 ГОСТ Р ИСО 4032-2014 20 ГОСТ 105...</td>\n      <td>Гайка М12.016 ст.20 ГОСТ ИСО 4032-2014</td>\n    </tr>\n    <tr>\n      <th>998</th>\n      <td>Гайка М12.016 ГОСТ Р ИСО 4032-2014 20 ГОСТ 105...</td>\n      <td>Гайка М12.016 ст.20 ГОСТ ИСО 4032-2014</td>\n    </tr>\n    <tr>\n      <th>999</th>\n      <td>Гайка М12.016 ГОСТ Р ИСО 4032-2014 20 ГОСТ 105...</td>\n      <td>Гайка М12.016 ст.20 ГОСТ ИСО 4032-2014</td>\n    </tr>\n  </tbody>\n</table>\n<p>1000 rows × 2 columns</p>\n</div>"
     },
     "execution_count": 7,
     "metadata": {},
     "output_type": "execute_result"
    }
   ],
   "source": [
    "train"
   ],
   "metadata": {
    "collapsed": false
   }
  },
  {
   "cell_type": "code",
   "execution_count": 9,
   "outputs": [
    {
     "data": {
      "text/plain": "Index(['Описание', 'Эталонная номенклатура'], dtype='object')"
     },
     "execution_count": 9,
     "metadata": {},
     "output_type": "execute_result"
    }
   ],
   "source": [
    "train.columns"
   ],
   "metadata": {
    "collapsed": false
   }
  },
  {
   "cell_type": "code",
   "execution_count": 8,
   "outputs": [
    {
     "data": {
      "text/plain": "                                          Номенклатура\n0                               AS17-L100x50x10-30-CS3\n1          Hardtop XP Std Comp A RAL 6011 Jotun 17,33л\n2                     Hardtop XP Std Comp B Jotun 1,8л\n3            Hardtop XP Std Comp B RAL 1023 Jotun 1,8л\n4           Hardtop XP Std Comp B RAL 6011 Jotun 1,8л.\n..                                                 ...\n995  Бобышка БП1-М20х1,5-100 ст.10Х17Н13М2Т ТУ 36-1...\n996  Бобышка БП1-М20х1,5-100 ст.13ХФА ТУ 4218-032-0...\n997        Бобышка БП1-М20х1,5-100 ст.20 ТУ 36-1097-85\n998  Бобышка БП1-М20х1,5-100 ст.20 УХЛ ТУ 4218-032-...\n999  Бобышка БП1-М20х1,5-100-УХЛ1 ст.20 ТУ 3600-009...\n\n[1000 rows x 1 columns]",
      "text/html": "<div>\n<style scoped>\n    .dataframe tbody tr th:only-of-type {\n        vertical-align: middle;\n    }\n\n    .dataframe tbody tr th {\n        vertical-align: top;\n    }\n\n    .dataframe thead th {\n        text-align: right;\n    }\n</style>\n<table border=\"1\" class=\"dataframe\">\n  <thead>\n    <tr style=\"text-align: right;\">\n      <th></th>\n      <th>Номенклатура</th>\n    </tr>\n  </thead>\n  <tbody>\n    <tr>\n      <th>0</th>\n      <td>AS17-L100x50x10-30-CS3</td>\n    </tr>\n    <tr>\n      <th>1</th>\n      <td>Hardtop XP Std Comp A RAL 6011 Jotun 17,33л</td>\n    </tr>\n    <tr>\n      <th>2</th>\n      <td>Hardtop XP Std Comp B Jotun 1,8л</td>\n    </tr>\n    <tr>\n      <th>3</th>\n      <td>Hardtop XP Std Comp B RAL 1023 Jotun 1,8л</td>\n    </tr>\n    <tr>\n      <th>4</th>\n      <td>Hardtop XP Std Comp B RAL 6011 Jotun 1,8л.</td>\n    </tr>\n    <tr>\n      <th>...</th>\n      <td>...</td>\n    </tr>\n    <tr>\n      <th>995</th>\n      <td>Бобышка БП1-М20х1,5-100 ст.10Х17Н13М2Т ТУ 36-1...</td>\n    </tr>\n    <tr>\n      <th>996</th>\n      <td>Бобышка БП1-М20х1,5-100 ст.13ХФА ТУ 4218-032-0...</td>\n    </tr>\n    <tr>\n      <th>997</th>\n      <td>Бобышка БП1-М20х1,5-100 ст.20 ТУ 36-1097-85</td>\n    </tr>\n    <tr>\n      <th>998</th>\n      <td>Бобышка БП1-М20х1,5-100 ст.20 УХЛ ТУ 4218-032-...</td>\n    </tr>\n    <tr>\n      <th>999</th>\n      <td>Бобышка БП1-М20х1,5-100-УХЛ1 ст.20 ТУ 3600-009...</td>\n    </tr>\n  </tbody>\n</table>\n<p>1000 rows × 1 columns</p>\n</div>"
     },
     "execution_count": 8,
     "metadata": {},
     "output_type": "execute_result"
    }
   ],
   "source": [
    "etalon"
   ],
   "metadata": {
    "collapsed": false
   }
  },
  {
   "cell_type": "code",
   "execution_count": 51,
   "outputs": [],
   "source": [
    "# !pip install name_matching\n"
   ],
   "metadata": {
    "collapsed": false
   }
  },
  {
   "cell_type": "code",
   "execution_count": 10,
   "outputs": [
    {
     "name": "stdout",
     "output_type": "stream",
     "text": [
      "preprocessing...\n",
      "\n",
      "preprocessing complete \n",
      " searching for matches...\n",
      "\n"
     ]
    },
    {
     "name": "stderr",
     "output_type": "stream",
     "text": [
      "100%|██████████| 1/1 [00:00<00:00, 27.00it/s]\n"
     ]
    },
    {
     "name": "stdout",
     "output_type": "stream",
     "text": [
      "possible matches found   \n",
      " fuzzy matching...\n",
      "\n"
     ]
    },
    {
     "name": "stderr",
     "output_type": "stream",
     "text": [
      "100%|██████████| 1000/1000 [01:30<00:00, 11.08it/s]"
     ]
    },
    {
     "name": "stdout",
     "output_type": "stream",
     "text": [
      "done\n"
     ]
    },
    {
     "name": "stderr",
     "output_type": "stream",
     "text": [
      "\n"
     ]
    }
   ],
   "source": [
    "import pandas as pd\n",
    "from name_matching.name_matcher import NameMatcher\n",
    "\n",
    "etalon_column_name = 'Эталонная номенклатура'\n",
    "\n",
    "\n",
    "\n",
    "# initialise the name matcher\n",
    "matcher = NameMatcher(number_of_matches=1,\n",
    "                      legal_suffixes=True,\n",
    "                      common_words=True,\n",
    "                      top_n=50,\n",
    "                      verbose=True)\n",
    "\n",
    "# adjust the distance metrics to use\n",
    "matcher.set_distance_metrics(['bag', 'typo', 'refined_soundex'])\n",
    "\n",
    "# load the data to which the names should be matched\n",
    "matcher.load_and_process_master_data(column=etalon_column_name,\n",
    "                                     df_matching_data=train,\n",
    "                                     transform=True)\n",
    "\n",
    "# perform the name matching on the data you want matched\n",
    "matches = matcher.match_names(to_be_matched=train,\n",
    "                              column_matching='Описание')\n",
    "\n"
   ],
   "metadata": {
    "collapsed": false
   }
  },
  {
   "cell_type": "code",
   "execution_count": 53,
   "outputs": [
    {
     "data": {
      "text/plain": "                                              Описание  \\\n0    Болт фундаментный 2.1 М24х800-09Г2С-6 ГОСТ 243...   \n1    А1 Болт 1.1 М36х1400 ГОСТ 24379.1-2012 GCC-LGN...   \n2    Болт 1.2.М12x500 ГОСТ 24379.1-2012 Сборный ГОС...   \n3    Болт 1.2.МЗ0х900 ГОСТ 24379.1-2012 Сборный ГОС...   \n4    Болт 2.1.М24х450 ст.09Г2С-6 ГОСТ 24379.1-80 в ...   \n..                                                 ...   \n995  Гайка шестигранная нормальная М16-5 ГОСТ ISO 4...   \n996  Гайка М12.016 ГОСТ Р ИСО 4032-2014 20 ГОСТ 105...   \n997  Гайка М12.016 ГОСТ Р ИСО 4032-2014 20 ГОСТ 105...   \n998  Гайка М12.016 ГОСТ Р ИСО 4032-2014 20 ГОСТ 105...   \n999  Гайка М12.016 ГОСТ Р ИСО 4032-2014 20 ГОСТ 105...   \n\n        Эталонная номенклатура  \n0      1124800 092  2437912012  \n1        11361400  2437912012   \n2         1212500   2437912012  \n3         1230900   2437912012  \n4     2124450 0926  2437912012  \n..                         ...  \n995             165   40322014  \n996        12016 20   40322014  \n997        12016 20   40322014  \n998        12016 20   40322014  \n999        12016 20   40322014  \n\n[1000 rows x 2 columns]",
      "text/html": "<div>\n<style scoped>\n    .dataframe tbody tr th:only-of-type {\n        vertical-align: middle;\n    }\n\n    .dataframe tbody tr th {\n        vertical-align: top;\n    }\n\n    .dataframe thead th {\n        text-align: right;\n    }\n</style>\n<table border=\"1\" class=\"dataframe\">\n  <thead>\n    <tr style=\"text-align: right;\">\n      <th></th>\n      <th>Описание</th>\n      <th>Эталонная номенклатура</th>\n    </tr>\n  </thead>\n  <tbody>\n    <tr>\n      <th>0</th>\n      <td>Болт фундаментный 2.1 М24х800-09Г2С-6 ГОСТ 243...</td>\n      <td>1124800 092  2437912012</td>\n    </tr>\n    <tr>\n      <th>1</th>\n      <td>А1 Болт 1.1 М36х1400 ГОСТ 24379.1-2012 GCC-LGN...</td>\n      <td>11361400  2437912012</td>\n    </tr>\n    <tr>\n      <th>2</th>\n      <td>Болт 1.2.М12x500 ГОСТ 24379.1-2012 Сборный ГОС...</td>\n      <td>1212500   2437912012</td>\n    </tr>\n    <tr>\n      <th>3</th>\n      <td>Болт 1.2.МЗ0х900 ГОСТ 24379.1-2012 Сборный ГОС...</td>\n      <td>1230900   2437912012</td>\n    </tr>\n    <tr>\n      <th>4</th>\n      <td>Болт 2.1.М24х450 ст.09Г2С-6 ГОСТ 24379.1-80 в ...</td>\n      <td>2124450 0926  2437912012</td>\n    </tr>\n    <tr>\n      <th>...</th>\n      <td>...</td>\n      <td>...</td>\n    </tr>\n    <tr>\n      <th>995</th>\n      <td>Гайка шестигранная нормальная М16-5 ГОСТ ISO 4...</td>\n      <td>165   40322014</td>\n    </tr>\n    <tr>\n      <th>996</th>\n      <td>Гайка М12.016 ГОСТ Р ИСО 4032-2014 20 ГОСТ 105...</td>\n      <td>12016 20   40322014</td>\n    </tr>\n    <tr>\n      <th>997</th>\n      <td>Гайка М12.016 ГОСТ Р ИСО 4032-2014 20 ГОСТ 105...</td>\n      <td>12016 20   40322014</td>\n    </tr>\n    <tr>\n      <th>998</th>\n      <td>Гайка М12.016 ГОСТ Р ИСО 4032-2014 20 ГОСТ 105...</td>\n      <td>12016 20   40322014</td>\n    </tr>\n    <tr>\n      <th>999</th>\n      <td>Гайка М12.016 ГОСТ Р ИСО 4032-2014 20 ГОСТ 105...</td>\n      <td>12016 20   40322014</td>\n    </tr>\n  </tbody>\n</table>\n<p>1000 rows × 2 columns</p>\n</div>"
     },
     "execution_count": 53,
     "metadata": {},
     "output_type": "execute_result"
    }
   ],
   "source": [
    "train"
   ],
   "metadata": {
    "collapsed": false
   }
  },
  {
   "cell_type": "code",
   "execution_count": 11,
   "outputs": [
    {
     "data": {
      "text/plain": "                                         original_name  \\\n0                     21 248000926  24379180 4  1  1     \n1    1  11 361400  2437912012 gcclgnddd12510010000k...   \n2                    1212x500  2437912012   2437902012   \n3                      120900  2437912012   2437902012   \n4                  2124450 0926  24379180   4  1   1     \n..                                                 ...   \n995                                  165  iso 40322014   \n996                     12016    40322014 20  10502013   \n997                     12016    40322014 20  10502013   \n998                     12016    40322014 20  10502013   \n999                     12016    40322014 20  10502013   \n\n                    match_name       score  match_index  \n0      1124800 092  2437912012   54.761905            0  \n1        11361400  2437912012    12.280702            1  \n2      2124600 092  2437912012    0.000000            5  \n3      1142900 092  2437912012   58.823529          700  \n4     2124450 0926  2437912012   62.500000            4  \n..                         ...         ...          ...  \n995             165   40322014  100.000000          995  \n996        12016 20   40322014   33.333333          996  \n997        12016 20   40322014   33.333333          996  \n998        12016 20   40322014   33.333333          996  \n999        12016 20   40322014   33.333333          996  \n\n[1000 rows x 4 columns]",
      "text/html": "<div>\n<style scoped>\n    .dataframe tbody tr th:only-of-type {\n        vertical-align: middle;\n    }\n\n    .dataframe tbody tr th {\n        vertical-align: top;\n    }\n\n    .dataframe thead th {\n        text-align: right;\n    }\n</style>\n<table border=\"1\" class=\"dataframe\">\n  <thead>\n    <tr style=\"text-align: right;\">\n      <th></th>\n      <th>original_name</th>\n      <th>match_name</th>\n      <th>score</th>\n      <th>match_index</th>\n    </tr>\n  </thead>\n  <tbody>\n    <tr>\n      <th>0</th>\n      <td>21 248000926  24379180 4  1  1</td>\n      <td>1124800 092  2437912012</td>\n      <td>54.761905</td>\n      <td>0</td>\n    </tr>\n    <tr>\n      <th>1</th>\n      <td>1  11 361400  2437912012 gcclgnddd12510010000k...</td>\n      <td>11361400  2437912012</td>\n      <td>12.280702</td>\n      <td>1</td>\n    </tr>\n    <tr>\n      <th>2</th>\n      <td>1212x500  2437912012   2437902012</td>\n      <td>2124600 092  2437912012</td>\n      <td>0.000000</td>\n      <td>5</td>\n    </tr>\n    <tr>\n      <th>3</th>\n      <td>120900  2437912012   2437902012</td>\n      <td>1142900 092  2437912012</td>\n      <td>58.823529</td>\n      <td>700</td>\n    </tr>\n    <tr>\n      <th>4</th>\n      <td>2124450 0926  24379180   4  1   1</td>\n      <td>2124450 0926  2437912012</td>\n      <td>62.500000</td>\n      <td>4</td>\n    </tr>\n    <tr>\n      <th>...</th>\n      <td>...</td>\n      <td>...</td>\n      <td>...</td>\n      <td>...</td>\n    </tr>\n    <tr>\n      <th>995</th>\n      <td>165  iso 40322014</td>\n      <td>165   40322014</td>\n      <td>100.000000</td>\n      <td>995</td>\n    </tr>\n    <tr>\n      <th>996</th>\n      <td>12016    40322014 20  10502013</td>\n      <td>12016 20   40322014</td>\n      <td>33.333333</td>\n      <td>996</td>\n    </tr>\n    <tr>\n      <th>997</th>\n      <td>12016    40322014 20  10502013</td>\n      <td>12016 20   40322014</td>\n      <td>33.333333</td>\n      <td>996</td>\n    </tr>\n    <tr>\n      <th>998</th>\n      <td>12016    40322014 20  10502013</td>\n      <td>12016 20   40322014</td>\n      <td>33.333333</td>\n      <td>996</td>\n    </tr>\n    <tr>\n      <th>999</th>\n      <td>12016    40322014 20  10502013</td>\n      <td>12016 20   40322014</td>\n      <td>33.333333</td>\n      <td>996</td>\n    </tr>\n  </tbody>\n</table>\n<p>1000 rows × 4 columns</p>\n</div>"
     },
     "execution_count": 11,
     "metadata": {},
     "output_type": "execute_result"
    }
   ],
   "source": [
    "matches"
   ],
   "metadata": {
    "collapsed": false
   }
  },
  {
   "cell_type": "code",
   "execution_count": 12,
   "outputs": [],
   "source": [
    "combined = pd.merge(train, matches, how='left', left_index=True, right_on='match_index')\n",
    "selected_columns = ['Описание', 'Эталонная номенклатура', 'score']\n",
    "combined = combined[selected_columns]\n",
    "\n"
   ],
   "metadata": {
    "collapsed": false
   }
  },
  {
   "cell_type": "code",
   "execution_count": 13,
   "outputs": [
    {
     "data": {
      "text/plain": "                           Описание Эталонная номенклатура       score\n506.0               01   1082756980         01  1082756980  100.000000\n269.0                01  341073193          01   341073193  100.000000\n468.0                 04  341074093          04  341074093  100.000000\n471.0                 12  341074093          12  341074093  100.000000\n984.0             591570  12 121810      12 121810  591570  100.000000\n...                             ...                    ...         ...\n90.0                      hsar m650          650 hilti hsa   -7.207592\n406.0     din 934 iso 4032 m108a280        108 280 din 934  -10.231218\n46.0      din 934 iso 4032 m108a280        108 280 din 934  -10.231218\n121.0                    hus3h 1090             1090 hus3h  -17.322411\n127.0                    hus3h 1090             1090 hus3h  -17.322411\n\n[1000 rows x 3 columns]",
      "text/html": "<div>\n<style scoped>\n    .dataframe tbody tr th:only-of-type {\n        vertical-align: middle;\n    }\n\n    .dataframe tbody tr th {\n        vertical-align: top;\n    }\n\n    .dataframe thead th {\n        text-align: right;\n    }\n</style>\n<table border=\"1\" class=\"dataframe\">\n  <thead>\n    <tr style=\"text-align: right;\">\n      <th></th>\n      <th>Описание</th>\n      <th>Эталонная номенклатура</th>\n      <th>score</th>\n    </tr>\n  </thead>\n  <tbody>\n    <tr>\n      <th>506.0</th>\n      <td>01   1082756980</td>\n      <td>01  1082756980</td>\n      <td>100.000000</td>\n    </tr>\n    <tr>\n      <th>269.0</th>\n      <td>01  341073193</td>\n      <td>01   341073193</td>\n      <td>100.000000</td>\n    </tr>\n    <tr>\n      <th>468.0</th>\n      <td>04  341074093</td>\n      <td>04  341074093</td>\n      <td>100.000000</td>\n    </tr>\n    <tr>\n      <th>471.0</th>\n      <td>12  341074093</td>\n      <td>12  341074093</td>\n      <td>100.000000</td>\n    </tr>\n    <tr>\n      <th>984.0</th>\n      <td>591570  12 121810</td>\n      <td>12 121810  591570</td>\n      <td>100.000000</td>\n    </tr>\n    <tr>\n      <th>...</th>\n      <td>...</td>\n      <td>...</td>\n      <td>...</td>\n    </tr>\n    <tr>\n      <th>90.0</th>\n      <td>hsar m650</td>\n      <td>650 hilti hsa</td>\n      <td>-7.207592</td>\n    </tr>\n    <tr>\n      <th>406.0</th>\n      <td>din 934 iso 4032 m108a280</td>\n      <td>108 280 din 934</td>\n      <td>-10.231218</td>\n    </tr>\n    <tr>\n      <th>46.0</th>\n      <td>din 934 iso 4032 m108a280</td>\n      <td>108 280 din 934</td>\n      <td>-10.231218</td>\n    </tr>\n    <tr>\n      <th>121.0</th>\n      <td>hus3h 1090</td>\n      <td>1090 hus3h</td>\n      <td>-17.322411</td>\n    </tr>\n    <tr>\n      <th>127.0</th>\n      <td>hus3h 1090</td>\n      <td>1090 hus3h</td>\n      <td>-17.322411</td>\n    </tr>\n  </tbody>\n</table>\n<p>1000 rows × 3 columns</p>\n</div>"
     },
     "execution_count": 13,
     "metadata": {},
     "output_type": "execute_result"
    }
   ],
   "source": [
    "combined.sort_values(by='score', ascending=False).head(1000)\n"
   ],
   "metadata": {
    "collapsed": false
   }
  }
 ],
 "metadata": {
  "kernelspec": {
   "display_name": "Python 3",
   "language": "python",
   "name": "python3"
  },
  "language_info": {
   "codemirror_mode": {
    "name": "ipython",
    "version": 2
   },
   "file_extension": ".py",
   "mimetype": "text/x-python",
   "name": "python",
   "nbconvert_exporter": "python",
   "pygments_lexer": "ipython2",
   "version": "2.7.6"
  }
 },
 "nbformat": 4,
 "nbformat_minor": 0
}
